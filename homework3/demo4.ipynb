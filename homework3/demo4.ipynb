{
 "cells": [
  {
   "cell_type": "code",
   "execution_count": 35,
   "metadata": {},
   "outputs": [],
   "source": [
    "import numpy as np\n",
    "import matplotlib.pyplot as plt\n",
    "from sklearn import datasets\n",
    "from sklearn.cluster import KMeans, AgglomerativeClustering, DBSCAN, SpectralClustering\n",
    "from sklearn.metrics import silhouette_score\n",
    "import warnings\n",
    "warnings.filterwarnings('ignore')\n",
    "%config InlineBackend.figure_format = 'svg'\n",
    "%matplotlib qt5\n",
    "from sklearn.metrics import davies_bouldin_score, calinski_harabasz_score, silhouette_score\n",
    "\n",
    "\n",
    "iris = datasets.load_iris()\n",
    "X = iris.data\n",
    "\n",
    "\n",
    "clusters_range = range(2, 10)\n",
    "epsilon_values = [0.2, 0.3, 0.4, 0.5]  \n",
    "min_samples = [3, 4, 5]  \n",
    "\n",
    "kmeans_results_sil_score = []\n",
    "kmeans_results_db_score = []\n",
    "kmeans_results_ch_score = []\n",
    "\n",
    "\n"
   ]
  },
  {
   "cell_type": "code",
   "execution_count": 36,
   "metadata": {},
   "outputs": [
    {
     "name": "stdout",
     "output_type": "stream",
     "text": [
      "[(2, 0.6810461692117462), (3, 0.5528190123564095), (4, 0.49805050499728726), (5, 0.49123997967644767), (6, 0.3648340039670025), (7, 0.35429788771988485), (8, 0.3487345377219387), (9, 0.31250440839683896)]\n",
      "[(2, 0.40429283717304215), (3, 0.6619715465007497), (4, 0.7803069838811083), (5, 0.8159888282066943), (6, 0.9141579726538106), (7, 0.978573014726016), (8, 0.9518866198522946), (9, 1.0323863139420475)]\n",
      "[(2, 513.9245459802768), (3, 561.62775662962), (4, 530.7658081872851), (5, 495.3699060237615), (6, 473.8506068330425), (7, 449.53634155424317), (8, 438.425530468372), (9, 406.8673000948424)]\n"
     ]
    }
   ],
   "source": [
    "# K-means and Spectral Clustering\n",
    "for n_clusters in clusters_range:\n",
    "\n",
    "    kmeans = KMeans(n_clusters=n_clusters, random_state=42)\n",
    "    kmeans_labels = kmeans.fit_predict(X)\n",
    "    sil_score = silhouette_score(X, kmeans_labels)\n",
    "    db_score = davies_bouldin_score(X, kmeans_labels)\n",
    "    ch_score = calinski_harabasz_score(X, kmeans_labels)\n",
    "\n",
    "    kmeans_results_sil_score.append((n_clusters, sil_score))\n",
    "    kmeans_results_db_score.append((n_clusters, db_score))\n",
    "    kmeans_results_ch_score.append((n_clusters, ch_score))\n",
    "print(kmeans_results_sil_score)\n",
    "print(kmeans_results_db_score)\n",
    "print(kmeans_results_ch_score)  \n",
    "    "
   ]
  },
  {
   "cell_type": "code",
   "execution_count": null,
   "metadata": {},
   "outputs": [
    {
     "name": "stdout",
     "output_type": "stream",
     "text": [
      "[(2, 0.6867350732769777), (3, 0.554160858028285), (4, 0.4944696226639279), (5, 0.36889996241754375), (6, 0.3652374850654385), (7, 0.3525371983676508), (8, 0.32254663614494744), (9, 0.3093490960578848)]\n",
      "[(2, 0.3827528421006905), (3, 0.6584442783224301), (4, 0.792963381520259), (5, 0.9261524324087838), (6, 0.934577780159754), (7, 0.9704702277177838), (8, 1.026944450260528), (9, 1.0177469593710167)]\n",
      "[(2, 502.82156350235897), (3, 556.879541917953), (4, 523.0982068284292), (5, 451.2219241858261), (6, 469.17746699794236), (7, 441.2962024124759), (8, 400.7565814970956), (9, 393.66440161422)]\n"
     ]
    }
   ],
   "source": [
    "\n",
    "spectral_results_sil_score = []\n",
    "spectral_results_db_score = []\n",
    "spectral_results_ch_score = []\n",
    "\n",
    "for n_clusters in clusters_range:\n",
    "    spectral = SpectralClustering(\n",
    "        n_clusters=n_clusters, random_state=42, affinity='nearest_neighbors')\n",
    "    spectral_labels = spectral.fit_predict(X)\n",
    "    sil_score = silhouette_score(X, spectral_labels)\n",
    "    db_score = davies_bouldin_score(X, spectral_labels)\n",
    "    ch_score = calinski_harabasz_score(X, spectral_labels)\n",
    "\n",
    "    spectral_results_sil_score.append((n_clusters, sil_score))\n",
    "    spectral_results_db_score.append((n_clusters, db_score))\n",
    "    spectral_results_ch_score.append((n_clusters, ch_score))\n",
    "\n",
    "print(spectral_results_sil_score)\n",
    "print(spectral_results_db_score)\n",
    "print(spectral_results_ch_score)\n"
   ]
  },
  {
   "cell_type": "code",
   "execution_count": null,
   "metadata": {},
   "outputs": [
    {
     "name": "stdout",
     "output_type": "stream",
     "text": [
      "[(2, 0.6867350732769777), (3, 0.554160858028285), (4, 0.4944696226639279), (5, 0.36889996241754375), (6, 0.3652374850654385), (7, 0.3525371983676508), (8, 0.32254663614494744), (9, 0.3093490960578848)]\n",
      "[(2, 0.3827528421006905), (3, 0.6584442783224301), (4, 0.792963381520259), (5, 0.9261524324087838), (6, 0.934577780159754), (7, 0.9704702277177838), (8, 1.026944450260528), (9, 1.0177469593710167)]\n",
      "[(2, 502.82156350235897), (3, 556.879541917953), (4, 523.0982068284292), (5, 451.2219241858261), (6, 469.17746699794236), (7, 441.2962024124759), (8, 400.7565814970956), (9, 393.66440161422)]\n"
     ]
    }
   ],
   "source": [
    "\n",
    "spectral_results_sil_score = []\n",
    "spectral_results_db_score = []\n",
    "spectral_results_ch_score = []\n",
    "\n",
    "for n_clusters in clusters_range:\n",
    "    spectral = SpectralClustering(\n",
    "        n_clusters=n_clusters, random_state=42, affinity='nearest_neighbors')\n",
    "    spectral_labels = spectral.fit_predict(X)\n",
    "    sil_score = silhouette_score(X, spectral_labels)\n",
    "    db_score = davies_bouldin_score(X, spectral_labels)\n",
    "    ch_score = calinski_harabasz_score(X, spectral_labels)\n",
    "\n",
    "    spectral_results_sil_score.append((n_clusters, sil_score))\n",
    "    spectral_results_db_score.append((n_clusters, db_score))\n",
    "    spectral_results_ch_score.append((n_clusters, ch_score))\n",
    "\n",
    "print(spectral_results_sil_score)\n",
    "print(spectral_results_db_score)\n",
    "print(spectral_results_ch_score)\n"
   ]
  },
  {
   "cell_type": "code",
   "execution_count": 41,
   "metadata": {},
   "outputs": [
    {
     "name": "stdout",
     "output_type": "stream",
     "text": [
      "[(2, 0.6867350732769777), (3, 0.554160858028285), (4, 0.4944696226639279), (5, 0.36889996241754375), (6, 0.3652374850654385), (7, 0.3525371983676508), (8, 0.32254663614494744), (9, 0.3093490960578848)]\n",
      "[(2, 0.3827528421006905), (3, 0.6584442783224301), (4, 0.792963381520259), (5, 0.9261524324087838), (6, 0.934577780159754), (7, 0.9704702277177838), (8, 1.026944450260528), (9, 1.0177469593710167)]\n",
      "[(2, 502.82156350235897), (3, 556.879541917953), (4, 523.0982068284292), (5, 451.2219241858261), (6, 469.17746699794236), (7, 441.2962024124759), (8, 400.7565814970956), (9, 393.66440161422)]\n"
     ]
    }
   ],
   "source": [
    "\n",
    "spectral_results_sil_score = []\n",
    "spectral_results_db_score = []\n",
    "spectral_results_ch_score = []\n",
    "\n",
    "for n_clusters in clusters_range:\n",
    "    spectral = SpectralClustering(\n",
    "        n_clusters=n_clusters, random_state=42, affinity='nearest_neighbors')\n",
    "    spectral_labels = spectral.fit_predict(X)\n",
    "    sil_score = silhouette_score(X, spectral_labels)\n",
    "    db_score = davies_bouldin_score(X, spectral_labels)\n",
    "    ch_score = calinski_harabasz_score(X, spectral_labels)\n",
    "\n",
    "    spectral_results_sil_score.append((n_clusters, sil_score))\n",
    "    spectral_results_db_score.append((n_clusters, db_score))\n",
    "    spectral_results_ch_score.append((n_clusters, ch_score))\n",
    "\n",
    "print(spectral_results_sil_score)\n",
    "print(spectral_results_db_score)\n",
    "print(spectral_results_ch_score)\n"
   ]
  },
  {
   "cell_type": "code",
   "execution_count": 31,
   "metadata": {},
   "outputs": [
    {
     "name": "stdout",
     "output_type": "stream",
     "text": [
      "[(0.2, 3, -0.3435295742459988), (0.2, 4, -0.3298054383391399), (0.2, 5, 0.18256428323870055), (0.3, 3, 0.031696721278817), (0.3, 4, -0.04646912371526451), (0.3, 5, -0.05206429641095596), (0.4, 3, 0.3349357629247676), (0.4, 4, 0.3252554808454046), (0.4, 5, 0.27794001394439843), (0.5, 3, 0.34673727351549816), (0.5, 4, 0.3812453990825315), (0.5, 5, 0.48603419703456857)]\n",
      "[(0.2, 3, 2.5010199425842976), (0.2, 4, 3.1902133744717176), (0.2, 5, 0.6275995822540149), (0.3, 3, 3.2818811238161842), (0.3, 4, 3.6597817209180046), (0.3, 5, 2.4009421098997565), (0.4, 3, 2.9154310562407466), (0.4, 4, 2.817174817472728), (0.4, 5, 3.893826840804742), (0.5, 3, 2.9507229738798264), (0.5, 4, 1.7346688089128244), (0.5, 5, 7.222448016359593)]\n",
      "[(0.2, 3, 10.62915533120602), (0.2, 4, 13.395567320624231), (0.2, 5, 18.623578246086847), (0.3, 3, 21.90619482666317), (0.3, 4, 31.217240523499086), (0.3, 5, 55.41857537141078), (0.4, 3, 123.18855497696), (0.4, 4, 122.47971273080236), (0.4, 5, 97.56349179124388), (0.5, 3, 148.92433684922062), (0.5, 4, 183.6757054098471), (0.5, 5, 220.29751498443005)]\n"
     ]
    }
   ],
   "source": [
    "# DBSCAN\n",
    "dbscan_results_sil_score = []\n",
    "dbscan_results_db_score = []\n",
    "dbscan_results_ch_score=[]\n",
    "\n",
    "for eps in epsilon_values:\n",
    "    for min_pts in min_samples:\n",
    "        dbscan = DBSCAN(eps=eps, min_samples=min_pts)\n",
    "        dbscan_labels = dbscan.fit_predict(X)\n",
    "        if len(set(dbscan_labels)) > 1:  # Valid cluster found\n",
    "            sil_score = silhouette_score(X, dbscan_labels)\n",
    "            db_score = davies_bouldin_score(X, dbscan_labels)\n",
    "            ch_score = calinski_harabasz_score(X, dbscan_labels)\n",
    "\n",
    "        else:\n",
    "            sil_score = -1  # Invalid clustering\n",
    "            db_score = -1\n",
    "            ch_score = -1\n",
    "        dbscan_results_sil_score.append((eps, min_pts, sil_score))\n",
    "        dbscan_results_db_score.append((eps, min_pts, db_score))   \n",
    "        dbscan_results_ch_score.append((eps, min_pts, ch_score))\n",
    "print(dbscan_results_sil_score)\n",
    "print(dbscan_results_db_score)\n",
    "print(dbscan_results_ch_score)\n",
    "\n"
   ]
  },
  {
   "cell_type": "code",
   "execution_count": 32,
   "metadata": {},
   "outputs": [
    {
     "name": "stdout",
     "output_type": "stream",
     "text": [
      "[(2, 'euclidean', 0.5159829508133176), (2, 'manhattan', 0.3090678928111287), (3, 'euclidean', 0.5135953221192212), (3, 'manhattan', 0.5543665902228472), (4, 'euclidean', 0.499812829417197), (4, 'manhattan', 0.48555391802542913), (5, 'euclidean', 0.34617396930269523), (5, 'manhattan', 0.47341019169880205)]\n",
      "[(2, 'euclidean', 0.6567610541416429), (2, 'manhattan', 0.7729197851253998), (3, 'euclidean', 0.6333339304359726), (3, 'manhattan', 0.6532209095848828), (4, 'euclidean', 0.6783707403483058), (4, 'manhattan', 0.7902133047018486), (5, 'euclidean', 0.9106477878980828), (5, 'manhattan', 0.803968689952676)]\n",
      "[(2, 'euclidean', 280.8392024579737), (2, 'manhattan', 97.14981198159457), (3, 'euclidean', 485.9050227341817), (3, 'manhattan', 552.2561616535166), (4, 'euclidean', 495.18162297307987), (4, 'manhattan', 513.2738759819965), (5, 'euclidean', 414.39248474403956), (5, 'manhattan', 462.2702488596455)]\n"
     ]
    }
   ],
   "source": [
    "# AGNES (Hierarchical clustering)\n",
    "agnes_results_sil_score = []\n",
    "agnes_results_db_score = []\n",
    "agnes_results_ch_score = []\n",
    "\n",
    "distance_metrics = ['euclidean', 'manhattan']\n",
    "for n_clusters in clusters_range:\n",
    "    for metric in distance_metrics:\n",
    "        agnes = AgglomerativeClustering(\n",
    "            n_clusters=n_clusters, affinity=metric, linkage='complete')\n",
    "        agnes_labels = agnes.fit_predict(X)\n",
    "        sil_score = silhouette_score(X, agnes_labels)\n",
    "        db_score = davies_bouldin_score(X, agnes_labels)\n",
    "        ch_score = calinski_harabasz_score(X, agnes_labels)\n",
    "\n",
    "        agnes_results_sil_score.append((n_clusters, metric, sil_score))\n",
    "        agnes_results_db_score.append((n_clusters, metric, db_score))\n",
    "        agnes_results_ch_score.append((n_clusters, metric, ch_score))\n",
    "print(agnes_results_sil_score)\n",
    "print(agnes_results_db_score)\n",
    "print(agnes_results_ch_score)"
   ]
  }
 ],
 "metadata": {
  "kernelspec": {
   "display_name": "pytorch",
   "language": "python",
   "name": "python3"
  },
  "language_info": {
   "codemirror_mode": {
    "name": "ipython",
    "version": 3
   },
   "file_extension": ".py",
   "mimetype": "text/x-python",
   "name": "python",
   "nbconvert_exporter": "python",
   "pygments_lexer": "ipython3",
   "version": "3.10.11"
  }
 },
 "nbformat": 4,
 "nbformat_minor": 2
}
