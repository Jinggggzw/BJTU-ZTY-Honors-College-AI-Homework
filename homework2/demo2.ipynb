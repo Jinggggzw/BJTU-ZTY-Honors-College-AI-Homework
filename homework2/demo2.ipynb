{
 "cells": [
  {
   "cell_type": "code",
   "execution_count": 2,
   "metadata": {
    "ExecuteTime": {
     "end_time": "2024-03-26T13:58:34.159507Z",
     "start_time": "2024-03-26T13:58:28.625784Z"
    }
   },
   "outputs": [],
   "source": [
    "from sklearn.datasets import load_breast_cancer\n",
    "from sklearn.neighbors import KNeighborsClassifier\n",
    "from sklearn.model_selection import train_test_split, GridSearchCV\n",
    "from sklearn.decomposition import PCA\n",
    "from sklearn.model_selection import cross_val_score\n",
    "from sklearn.metrics import f1_score\n",
    "from sklearn.preprocessing import MinMaxScaler,StandardScaler\n",
    "from sklearn.metrics import accuracy_score,recall_score\n",
    "from sklearn.tree import DecisionTreeClassifier,plot_tree\n",
    "from sklearn.svm import SVC\n",
    "import seaborn as sns\n",
    "from scipy.stats import kurtosis, skew\n",
    "import numpy as np\n",
    "# import seaborn as sns\n",
    "import pandas as pd\n",
    "import matplotlib.pyplot as plt\n",
    "import warnings\n",
    "warnings.filterwarnings('ignore')\n",
    "%config InlineBackend.figure_format = 'svg'\n",
    "%matplotlib qt5"
   ]
  },
  {
   "cell_type": "code",
   "execution_count": 3,
   "metadata": {
    "ExecuteTime": {
     "end_time": "2024-03-26T13:58:37.202993Z",
     "start_time": "2024-03-26T13:58:37.177477Z"
    }
   },
   "outputs": [
    {
     "name": "stdout",
     "output_type": "stream",
     "text": [
      "['malignant' 'benign']\n"
     ]
    }
   ],
   "source": [
    "cancer_data = load_breast_cancer()\n",
    "Scaler = MinMaxScaler()\n",
    "X = cancer_data.data\n",
    "y = cancer_data.target\n",
    "X = Scaler.fit_transform(X) \n",
    "\n",
    "\n",
    "X_train,X_test,y_train,y_test = train_test_split(X,y,train_size=0.7,random_state=42)\n",
    "\n",
    "print(cancer_data[\"target_names\"])"
   ]
  },
  {
   "cell_type": "code",
   "execution_count": 4,
   "metadata": {},
   "outputs": [],
   "source": [
    "def box_plot_filter(df):\n",
    "    Q1 = df.quantile(0.25)\n",
    "    Q3 = df.quantile(0.75)\n",
    "    IQR = Q3 - Q1\n",
    "    filter = (df < (Q1 - 1.5 * IQR)) | (df > (Q3 + 1.5 * IQR))\n",
    "    df[filter] = np.nan\n",
    "    # print(df_i.isnull().sum())\n",
    "    df.interpolate(method='nearest', inplace=True)\n",
    "    df.fillna(method='bfill', inplace=True)\n",
    "    df.fillna(method='ffill', inplace=True)\n",
    "    return df"
   ]
  },
  {
   "cell_type": "code",
   "execution_count": 5,
   "metadata": {},
   "outputs": [],
   "source": [
    "dfs = []\n",
    "for i in range(2):\n",
    "    mask = (y == i)\n",
    "    x_i = X[mask]\n",
    "    # print(x_i)\n",
    "\n",
    "    df_i = pd.DataFrame(x_i, columns=cancer_data.feature_names)\n",
    "    plt.figure(figsize=(10, 4))\n",
    "    plt.boxplot(df_i.values, labels=cancer_data.feature_names)\n",
    "    plt.show()\n",
    "    plt.xticks([])\n",
    "    \n",
    "    df_i = box_plot_filter(df_i)\n",
    "    df_i = box_plot_filter(df_i)   \n",
    "    plt.figure(figsize=(10, 4))\n",
    "    plt.boxplot(df_i, labels=cancer_data.feature_names)\n",
    "    plt.show()\n",
    "    plt.xticks([])\n",
    "    dfs.append(df_i)\n",
    "\n",
    "df = pd.concat(dfs, axis=0)\n",
    "X = np.array(df)\n",
    "X = Scaler.fit_transform(X)"
   ]
  },
  {
   "cell_type": "markdown",
   "metadata": {},
   "source": [
    "## knn\n",
    "### K值选取实验"
   ]
  },
  {
   "cell_type": "markdown",
   "metadata": {},
   "source": [
    "### 准确率"
   ]
  },
  {
   "cell_type": "code",
   "execution_count": 6,
   "metadata": {
    "ExecuteTime": {
     "end_time": "2024-03-26T13:58:42.925665Z",
     "start_time": "2024-03-26T13:58:38.575277Z"
    }
   },
   "outputs": [
    {
     "name": "stdout",
     "output_type": "stream",
     "text": [
      "[0.9590643274853801, 0.9415204678362573, 0.9707602339181286, 0.9649122807017544, 0.9649122807017544, 0.9649122807017544, 0.9649122807017544, 0.9590643274853801, 0.9649122807017544]\n"
     ]
    }
   ],
   "source": [
    "knn_models = [KNeighborsClassifier(n_neighbors=k) for k in range(1,10)]\n",
    "knn_fit = [model.fit(X_train,y_train) for model in knn_models]\n",
    "knn_acc = [model.score(X_test,y_test) for model in knn_models]\n",
    "plt.figure(figsize=(8,4))\n",
    "plt.plot(range(1,10),knn_acc,'bo-') \n",
    "plt.rcParams['font.size'] = 14\n",
    "print(knn_acc)"
   ]
  },
  {
   "cell_type": "markdown",
   "metadata": {},
   "source": [
    "### 五折交叉验证"
   ]
  },
  {
   "cell_type": "code",
   "execution_count": 7,
   "metadata": {},
   "outputs": [
    {
     "data": {
      "text/plain": [
       "[<matplotlib.lines.Line2D at 0x191335c1630>]"
      ]
     },
     "execution_count": 7,
     "metadata": {},
     "output_type": "execute_result"
    }
   ],
   "source": [
    "knn_cross_val_score = [cross_val_score(model,X_train,y_train).mean() for model in knn_models]\n",
    "plt.figure(figsize=(8, 4))\n",
    "plt.plot(range(1, 10), knn_cross_val_score, 'bo-')"
   ]
  },
  {
   "cell_type": "markdown",
   "metadata": {},
   "source": [
    "### F1 score"
   ]
  },
  {
   "cell_type": "code",
   "execution_count": 8,
   "metadata": {},
   "outputs": [
    {
     "data": {
      "text/plain": [
       "[<matplotlib.lines.Line2D at 0x191336327d0>]"
      ]
     },
     "execution_count": 8,
     "metadata": {},
     "output_type": "execute_result"
    }
   ],
   "source": [
    "knn_pre = [ model.predict(X_test) for model in knn_models]\n",
    "knn_f1 = [f1_score(y_test,y_pred) for y_pred in knn_pre]\n",
    "plt.figure(figsize=(8, 4))\n",
    "plt.plot(range(1, 10), knn_f1, 'bo-')"
   ]
  },
  {
   "cell_type": "code",
   "execution_count": 9,
   "metadata": {
    "ExecuteTime": {
     "end_time": "2024-03-26T13:58:46.892540Z",
     "start_time": "2024-03-26T13:58:46.022593Z"
    }
   },
   "outputs": [],
   "source": [
    "# 设置为监督学习 对分类结果进行可视化\n",
    "import matplotlib.pyplot as plt\n",
    "import mpl_toolkits.mplot3d  as Axes3D\n",
    "import numpy as np\n",
    "np.random.seed(42)\n",
    "\n",
    "fig = plt.figure(figsize=(18,18))\n",
    "# kmeans = KMeans(n_clusters=2)\n",
    "\n",
    "# print(output)\n",
    "for i in range(1,10):\n",
    "    output = knn_models[i-1].predict(X_test)\n",
    "    # plt.clf()\n",
    "    ax = fig.add_subplot(3,3,i, projection=\"3d\", elev=48, azim=134)\n",
    "    # ax.set_position([0, 0, 0.95, 1])\n",
    "    # plt.cla()\n",
    "    pca = PCA(n_components=3)\n",
    "    X_pca = pca.fit_transform(X_test)\n",
    "    for name, label in [(\"malignant\", 0), (\"benign\", 1)]:\n",
    "        ax.text3D(\n",
    "            X_pca[y_test == label, 0].mean(),\n",
    "            X_pca[y_test == label, 1].mean() + 1.5,\n",
    "            X_pca[y_test == label, 2].mean(),\n",
    "            name,\n",
    "            horizontalalignment=\"center\",\n",
    "            bbox=dict(alpha=0.5, edgecolor=\"w\", facecolor=\"w\"),\n",
    "            fontsize  = 12\n",
    "        )\n",
    "    y = output\n",
    "    # Reorder the labels to have colors matching the cluster results\n",
    "    # y = np.choose(y, [1, 2, 0]).astype(float)\n",
    "    ax.scatter(X_pca[:, 0], X_pca[:, 1], X_pca[:, 2], c=y,\n",
    "                edgecolor=\"k\",s = 80,alpha = 0.6)\n",
    "    # ax.xaxis.set_ticklabels([])\n",
    "    # ax.yaxis.set_ticklabels([])\n",
    "    # ax.zaxis.set_ticklabels([]) \n",
    "    ax.set_xlabel('Feature1')\n",
    "    ax.set_ylabel('Feature2')\n",
    "    ax.set_zlabel('Feature3')\n",
    "    \n",
    "    ax.view_init(elev=18, azim=107)\n",
    "\n",
    "plt.tight_layout()\n",
    "plt.show()\n",
    "\n",
    "\n"
   ]
  },
  {
   "cell_type": "markdown",
   "metadata": {},
   "source": [
    "## 决策树"
   ]
  },
  {
   "cell_type": "code",
   "execution_count": 10,
   "metadata": {},
   "outputs": [
    {
     "data": {
      "text/html": [
       "<style>#sk-container-id-1 {color: black;}#sk-container-id-1 pre{padding: 0;}#sk-container-id-1 div.sk-toggleable {background-color: white;}#sk-container-id-1 label.sk-toggleable__label {cursor: pointer;display: block;width: 100%;margin-bottom: 0;padding: 0.3em;box-sizing: border-box;text-align: center;}#sk-container-id-1 label.sk-toggleable__label-arrow:before {content: \"▸\";float: left;margin-right: 0.25em;color: #696969;}#sk-container-id-1 label.sk-toggleable__label-arrow:hover:before {color: black;}#sk-container-id-1 div.sk-estimator:hover label.sk-toggleable__label-arrow:before {color: black;}#sk-container-id-1 div.sk-toggleable__content {max-height: 0;max-width: 0;overflow: hidden;text-align: left;background-color: #f0f8ff;}#sk-container-id-1 div.sk-toggleable__content pre {margin: 0.2em;color: black;border-radius: 0.25em;background-color: #f0f8ff;}#sk-container-id-1 input.sk-toggleable__control:checked~div.sk-toggleable__content {max-height: 200px;max-width: 100%;overflow: auto;}#sk-container-id-1 input.sk-toggleable__control:checked~label.sk-toggleable__label-arrow:before {content: \"▾\";}#sk-container-id-1 div.sk-estimator input.sk-toggleable__control:checked~label.sk-toggleable__label {background-color: #d4ebff;}#sk-container-id-1 div.sk-label input.sk-toggleable__control:checked~label.sk-toggleable__label {background-color: #d4ebff;}#sk-container-id-1 input.sk-hidden--visually {border: 0;clip: rect(1px 1px 1px 1px);clip: rect(1px, 1px, 1px, 1px);height: 1px;margin: -1px;overflow: hidden;padding: 0;position: absolute;width: 1px;}#sk-container-id-1 div.sk-estimator {font-family: monospace;background-color: #f0f8ff;border: 1px dotted black;border-radius: 0.25em;box-sizing: border-box;margin-bottom: 0.5em;}#sk-container-id-1 div.sk-estimator:hover {background-color: #d4ebff;}#sk-container-id-1 div.sk-parallel-item::after {content: \"\";width: 100%;border-bottom: 1px solid gray;flex-grow: 1;}#sk-container-id-1 div.sk-label:hover label.sk-toggleable__label {background-color: #d4ebff;}#sk-container-id-1 div.sk-serial::before {content: \"\";position: absolute;border-left: 1px solid gray;box-sizing: border-box;top: 0;bottom: 0;left: 50%;z-index: 0;}#sk-container-id-1 div.sk-serial {display: flex;flex-direction: column;align-items: center;background-color: white;padding-right: 0.2em;padding-left: 0.2em;position: relative;}#sk-container-id-1 div.sk-item {position: relative;z-index: 1;}#sk-container-id-1 div.sk-parallel {display: flex;align-items: stretch;justify-content: center;background-color: white;position: relative;}#sk-container-id-1 div.sk-item::before, #sk-container-id-1 div.sk-parallel-item::before {content: \"\";position: absolute;border-left: 1px solid gray;box-sizing: border-box;top: 0;bottom: 0;left: 50%;z-index: -1;}#sk-container-id-1 div.sk-parallel-item {display: flex;flex-direction: column;z-index: 1;position: relative;background-color: white;}#sk-container-id-1 div.sk-parallel-item:first-child::after {align-self: flex-end;width: 50%;}#sk-container-id-1 div.sk-parallel-item:last-child::after {align-self: flex-start;width: 50%;}#sk-container-id-1 div.sk-parallel-item:only-child::after {width: 0;}#sk-container-id-1 div.sk-dashed-wrapped {border: 1px dashed gray;margin: 0 0.4em 0.5em 0.4em;box-sizing: border-box;padding-bottom: 0.4em;background-color: white;}#sk-container-id-1 div.sk-label label {font-family: monospace;font-weight: bold;display: inline-block;line-height: 1.2em;}#sk-container-id-1 div.sk-label-container {text-align: center;}#sk-container-id-1 div.sk-container {/* jupyter's `normalize.less` sets `[hidden] { display: none; }` but bootstrap.min.css set `[hidden] { display: none !important; }` so we also need the `!important` here to be able to override the default hidden behavior on the sphinx rendered scikit-learn.org. See: https://github.com/scikit-learn/scikit-learn/issues/21755 */display: inline-block !important;position: relative;}#sk-container-id-1 div.sk-text-repr-fallback {display: none;}</style><div id=\"sk-container-id-1\" class=\"sk-top-container\"><div class=\"sk-text-repr-fallback\"><pre>GridSearchCV(cv=5, estimator=DecisionTreeClassifier(random_state=42),\n",
       "             param_grid={&#x27;ccp_alpha&#x27;: [0.0, 0.01, 0.02, 0.03, 0.04],\n",
       "                         &#x27;max_depth&#x27;: [None, 2, 3, 4, 5]},\n",
       "             scoring=&#x27;accuracy&#x27;)</pre><b>In a Jupyter environment, please rerun this cell to show the HTML representation or trust the notebook. <br />On GitHub, the HTML representation is unable to render, please try loading this page with nbviewer.org.</b></div><div class=\"sk-container\" hidden><div class=\"sk-item sk-dashed-wrapped\"><div class=\"sk-label-container\"><div class=\"sk-label sk-toggleable\"><input class=\"sk-toggleable__control sk-hidden--visually\" id=\"sk-estimator-id-1\" type=\"checkbox\" ><label for=\"sk-estimator-id-1\" class=\"sk-toggleable__label sk-toggleable__label-arrow\">GridSearchCV</label><div class=\"sk-toggleable__content\"><pre>GridSearchCV(cv=5, estimator=DecisionTreeClassifier(random_state=42),\n",
       "             param_grid={&#x27;ccp_alpha&#x27;: [0.0, 0.01, 0.02, 0.03, 0.04],\n",
       "                         &#x27;max_depth&#x27;: [None, 2, 3, 4, 5]},\n",
       "             scoring=&#x27;accuracy&#x27;)</pre></div></div></div><div class=\"sk-parallel\"><div class=\"sk-parallel-item\"><div class=\"sk-item\"><div class=\"sk-label-container\"><div class=\"sk-label sk-toggleable\"><input class=\"sk-toggleable__control sk-hidden--visually\" id=\"sk-estimator-id-2\" type=\"checkbox\" ><label for=\"sk-estimator-id-2\" class=\"sk-toggleable__label sk-toggleable__label-arrow\">estimator: DecisionTreeClassifier</label><div class=\"sk-toggleable__content\"><pre>DecisionTreeClassifier(random_state=42)</pre></div></div></div><div class=\"sk-serial\"><div class=\"sk-item\"><div class=\"sk-estimator sk-toggleable\"><input class=\"sk-toggleable__control sk-hidden--visually\" id=\"sk-estimator-id-3\" type=\"checkbox\" ><label for=\"sk-estimator-id-3\" class=\"sk-toggleable__label sk-toggleable__label-arrow\">DecisionTreeClassifier</label><div class=\"sk-toggleable__content\"><pre>DecisionTreeClassifier(random_state=42)</pre></div></div></div></div></div></div></div></div></div></div>"
      ],
      "text/plain": [
       "GridSearchCV(cv=5, estimator=DecisionTreeClassifier(random_state=42),\n",
       "             param_grid={'ccp_alpha': [0.0, 0.01, 0.02, 0.03, 0.04],\n",
       "                         'max_depth': [None, 2, 3, 4, 5]},\n",
       "             scoring='accuracy')"
      ]
     },
     "execution_count": 10,
     "metadata": {},
     "output_type": "execute_result"
    }
   ],
   "source": [
    "\n",
    "tree_clf = DecisionTreeClassifier(random_state=42)\n",
    "\n",
    "# 定义参数网格\n",
    "param_grid = {\n",
    "    'max_depth': [None, 2, 3, 4, 5],  # 预剪枝参数\n",
    "    'ccp_alpha': [0.0, 0.01, 0.02, 0.03, 0.04]   # 后剪枝参数\n",
    "}\n",
    "grid_search = GridSearchCV(tree_clf,param_grid,cv = 5,scoring='accuracy')\n",
    "grid_search.fit(X_train,y_train)"
   ]
  },
  {
   "cell_type": "code",
   "execution_count": 11,
   "metadata": {},
   "outputs": [],
   "source": [
    "results = grid_search.cv_results_\n",
    "mean_test_scores = results['mean_test_score']\n",
    "\n",
    "params_grid = list(param_grid.values())\n",
    "grid_shape = [len(param) for param in params_grid]\n",
    "\n",
    "scores_matrix = mean_test_scores.reshape(grid_shape)\n",
    "plt.figure(figsize=(12, 6))\n",
    "plt.title('Grid Search Scores')\n",
    "\n",
    "\n",
    "param_names = list(param_grid.keys())\n",
    "plt.xlabel(param_names[0])\n",
    "plt.ylabel(param_names[1])\n",
    "\n",
    "sns.heatmap(scores_matrix, cmap='PuRd')\n",
    "# plt.colorbar()\n",
    "\n",
    "\n",
    "# plt.xticks(params_grid[0])\n",
    "# plt.yticks( params_grid[1])\n",
    "\n",
    "plt.show()"
   ]
  },
  {
   "cell_type": "code",
   "execution_count": 12,
   "metadata": {},
   "outputs": [
    {
     "name": "stdout",
     "output_type": "stream",
     "text": [
      "{'ccp_alpha': 0.01, 'max_depth': 4}\n"
     ]
    }
   ],
   "source": [
    "print(grid_search.best_params_)"
   ]
  },
  {
   "cell_type": "code",
   "execution_count": 13,
   "metadata": {},
   "outputs": [
    {
     "name": "stdout",
     "output_type": "stream",
     "text": [
      "accuracy_score is 0.9649122807017544\n",
      "recall_score is 0.9722222222222222\n",
      "f1_score is 0.9722222222222222\n"
     ]
    }
   ],
   "source": [
    "best_tree_clf = grid_search.best_estimator_\n",
    "y_pre = best_tree_clf.predict(X_test)\n",
    "acc = accuracy_score(y_test, y_pre)\n",
    "print(f\"accuracy_score is {acc}\")\n",
    "recall = recall_score(y_test, y_pre)\n",
    "print(f\"recall_score is {recall}\")\n",
    "f1 = f1_score(y_test, y_pre)\n",
    "print(f\"f1_score is {f1}\")  "
   ]
  },
  {
   "cell_type": "code",
   "execution_count": 14,
   "metadata": {},
   "outputs": [],
   "source": [
    "plt.figure(figsize=(20, 10))\n",
    "plot_tree(best_tree_clf, filled=True,  rounded=True,\n",
    "          feature_names=list(cancer_data[\"feature_names\"]),class_names=list(cancer_data[\"target_names\"]))\n",
    "plt.show()"
   ]
  },
  {
   "cell_type": "markdown",
   "metadata": {},
   "source": [
    "## 逻辑回归"
   ]
  },
  {
   "cell_type": "code",
   "execution_count": 15,
   "metadata": {},
   "outputs": [
    {
     "name": "stdout",
     "output_type": "stream",
     "text": [
      "accuracy_score is 0.9766081871345029\n",
      "recall_score is 1.0\n",
      "f1_score is 0.9818181818181818\n"
     ]
    }
   ],
   "source": [
    "from sklearn.linear_model import LogisticRegression\n",
    "log_res = LogisticRegression(random_state=42)\n",
    "log_res.fit(X_train, y_train)\n",
    "\n",
    "y_pre = log_res.predict(X_test)\n",
    "acc = accuracy_score(y_test,y_pre)\n",
    "print(f\"accuracy_score is {acc}\")\n",
    "\n",
    "recall = recall_score(y_test,y_pre)\n",
    "print(f\"recall_score is {recall}\")\n",
    "\n",
    "f1 = f1_score(y_test, y_pre)\n",
    "print(f\"f1_score is {f1}\")"
   ]
  },
  {
   "cell_type": "markdown",
   "metadata": {},
   "source": [
    "## SVM"
   ]
  },
  {
   "cell_type": "code",
   "execution_count": 16,
   "metadata": {},
   "outputs": [
    {
     "name": "stdout",
     "output_type": "stream",
     "text": [
      "accuracy_score is 0.9590643274853801\n",
      "recall_score is 1.0\n",
      "f1_score is 0.968609865470852\n"
     ]
    }
   ],
   "source": [
    "# RBF核\n",
    "svm_clf = SVC(kernel='rbf', gamma='auto', C=1)\n",
    "svm_clf.fit(X_train, y_train)\n",
    "\n",
    "y_pre_rbf = svm_clf.predict(X_test)\n",
    "acc = accuracy_score(y_test, y_pre_rbf)\n",
    "print(f\"accuracy_score is {acc}\")\n",
    "\n",
    "recall = recall_score(y_test, y_pre_rbf)\n",
    "print(f\"recall_score is {recall}\")\n",
    "f1 = f1_score(y_test, y_pre_rbf)\n",
    "print(f\"f1_score is {f1}\")"
   ]
  },
  {
   "cell_type": "code",
   "execution_count": 17,
   "metadata": {},
   "outputs": [
    {
     "name": "stdout",
     "output_type": "stream",
     "text": [
      "accuracy_score is 0.9883040935672515\n",
      "recall_score is 1.0\n",
      "f1_score is 0.9908256880733944\n"
     ]
    }
   ],
   "source": [
    "# 无核\n",
    "svm_clf_none = SVC(kernel='linear')\n",
    "svm_clf_none.fit(X_train, y_train)\n",
    "\n",
    "y_pre_none = svm_clf_none.predict(X_test)\n",
    "acc = accuracy_score(y_test, y_pre_none)\n",
    "print(f\"accuracy_score is {acc}\")\n",
    "\n",
    "recall = recall_score(y_test, y_pre_none)\n",
    "print(f\"recall_score is {recall}\")\n",
    "\n",
    "f1 = f1_score(y_test, y_pre_none)\n",
    "print(f\"f1_score is {f1}\")"
   ]
  },
  {
   "cell_type": "markdown",
   "metadata": {},
   "source": [
    "******"
   ]
  },
  {
   "cell_type": "markdown",
   "metadata": {},
   "source": [
    "### 鸢尾花数据集\n",
    "\n",
    "- 数据预处理\n",
    "- 剔除异常数据\n",
    "- 归一化"
   ]
  },
  {
   "cell_type": "code",
   "execution_count": 18,
   "metadata": {},
   "outputs": [
    {
     "name": "stdout",
     "output_type": "stream",
     "text": [
      "    sepal length (cm)  sepal width (cm)  petal length (cm)  petal width (cm)\n",
      "0                 5.1               3.5                1.4               0.2\n",
      "1                 4.9               3.0                1.4               0.2\n",
      "2                 4.7               3.2                1.3               0.2\n",
      "3                 4.6               3.1                1.5               0.2\n",
      "4                 5.0               3.6                1.4               0.2\n",
      "5                 5.4               3.9                1.7               0.4\n",
      "6                 4.6               3.4                1.4               0.3\n",
      "7                 5.0               3.4                1.5               0.2\n",
      "8                 4.4               2.9                1.4               0.2\n",
      "9                 4.9               3.1                1.5               0.1\n",
      "10                5.4               3.7                1.5               0.2\n",
      "11                4.8               3.4                1.6               0.2\n",
      "12                4.8               3.0                1.4               0.1\n",
      "13                4.3               3.0                NaN               0.1\n",
      "14                5.8               4.0                1.2               0.2\n",
      "15                5.7               NaN                1.5               0.4\n",
      "16                5.4               3.9                1.3               0.4\n",
      "17                5.1               3.5                1.4               0.3\n",
      "18                5.7               3.8                1.7               0.3\n",
      "19                5.1               3.8                1.5               0.3\n",
      "20                5.4               3.4                1.7               0.2\n",
      "21                5.1               3.7                1.5               0.4\n",
      "22                4.6               3.6                NaN               0.2\n",
      "23                5.1               3.3                1.7               NaN\n",
      "24                4.8               3.4                NaN               0.2\n",
      "25                5.0               3.0                1.6               0.2\n",
      "26                5.0               3.4                1.6               0.4\n",
      "27                5.2               3.5                1.5               0.2\n",
      "28                5.2               3.4                1.4               0.2\n",
      "29                4.7               3.2                1.6               0.2\n",
      "30                4.8               3.1                1.6               0.2\n",
      "31                5.4               3.4                1.5               0.4\n",
      "32                5.2               4.1                1.5               0.1\n",
      "33                5.5               4.2                1.4               0.2\n",
      "34                4.9               3.1                1.5               0.2\n",
      "35                5.0               3.2                1.2               0.2\n",
      "36                5.5               3.5                1.3               0.2\n",
      "37                4.9               3.6                1.4               0.1\n",
      "38                4.4               3.0                1.3               0.2\n",
      "39                5.1               3.4                1.5               0.2\n",
      "40                5.0               3.5                1.3               0.3\n",
      "41                4.5               NaN                1.3               0.3\n",
      "42                4.4               3.2                1.3               0.2\n",
      "43                5.0               3.5                1.6               NaN\n",
      "44                5.1               3.8                NaN               0.4\n",
      "45                4.8               3.0                1.4               0.3\n",
      "46                5.1               3.8                1.6               0.2\n",
      "47                4.6               3.2                1.4               0.2\n",
      "48                5.3               3.7                1.5               0.2\n",
      "49                5.0               3.3                1.4               0.2\n",
      "    sepal length (cm)  sepal width (cm)  petal length (cm)  petal width (cm)\n",
      "0                 7.0               3.2                4.7               1.4\n",
      "1                 6.4               3.2                4.5               1.5\n",
      "2                 6.9               3.1                4.9               1.5\n",
      "3                 5.5               2.3                4.0               1.3\n",
      "4                 6.5               2.8                4.6               1.5\n",
      "5                 5.7               2.8                4.5               1.3\n",
      "6                 6.3               3.3                4.7               1.6\n",
      "7                 4.9               2.4                3.3               1.0\n",
      "8                 6.6               2.9                4.6               1.3\n",
      "9                 5.2               2.7                3.9               1.4\n",
      "10                5.0               2.0                3.5               1.0\n",
      "11                5.9               3.0                4.2               1.5\n",
      "12                6.0               2.2                4.0               1.0\n",
      "13                6.1               2.9                4.7               1.4\n",
      "14                5.6               2.9                3.6               1.3\n",
      "15                6.7               3.1                4.4               1.4\n",
      "16                5.6               3.0                4.5               1.5\n",
      "17                5.8               2.7                4.1               1.0\n",
      "18                6.2               2.2                4.5               1.5\n",
      "19                5.6               2.5                3.9               1.1\n",
      "20                5.9               3.2                4.8               1.8\n",
      "21                6.1               2.8                4.0               1.3\n",
      "22                6.3               2.5                4.9               1.5\n",
      "23                6.1               2.8                4.7               1.2\n",
      "24                6.4               2.9                4.3               1.3\n",
      "25                6.6               3.0                4.4               1.4\n",
      "26                6.8               2.8                4.8               1.4\n",
      "27                6.7               3.0                5.0               1.7\n",
      "28                6.0               2.9                4.5               1.5\n",
      "29                5.7               2.6                3.5               1.0\n",
      "30                5.5               2.4                3.8               1.1\n",
      "31                5.5               2.4                3.7               1.0\n",
      "32                5.8               2.7                3.9               1.2\n",
      "33                6.0               2.7                5.1               1.6\n",
      "34                5.4               3.0                4.5               1.5\n",
      "35                6.0               3.4                4.5               1.6\n",
      "36                6.7               3.1                4.7               1.5\n",
      "37                6.3               2.3                4.4               1.3\n",
      "38                5.6               3.0                4.1               1.3\n",
      "39                5.5               2.5                4.0               1.3\n",
      "40                5.5               2.6                4.4               1.2\n",
      "41                6.1               3.0                4.6               1.4\n",
      "42                5.8               2.6                4.0               1.2\n",
      "43                5.0               2.3                3.3               1.0\n",
      "44                5.6               2.7                4.2               1.3\n",
      "45                5.7               3.0                4.2               1.2\n",
      "46                5.7               2.9                4.2               1.3\n",
      "47                6.2               2.9                4.3               1.3\n",
      "48                5.1               2.5                NaN               1.1\n",
      "49                5.7               2.8                4.1               1.3\n",
      "    sepal length (cm)  sepal width (cm)  petal length (cm)  petal width (cm)\n",
      "0                 6.3               3.3                6.0               2.5\n",
      "1                 5.8               2.7                5.1               1.9\n",
      "2                 7.1               3.0                5.9               2.1\n",
      "3                 6.3               2.9                5.6               1.8\n",
      "4                 6.5               3.0                5.8               2.2\n",
      "5                 7.6               3.0                6.6               2.1\n",
      "6                 NaN               2.5                4.5               1.7\n",
      "7                 7.3               2.9                6.3               1.8\n",
      "8                 6.7               2.5                5.8               1.8\n",
      "9                 7.2               3.6                6.1               2.5\n",
      "10                6.5               3.2                5.1               2.0\n",
      "11                6.4               2.7                5.3               1.9\n",
      "12                6.8               3.0                5.5               2.1\n",
      "13                5.7               2.5                5.0               2.0\n",
      "14                5.8               2.8                5.1               2.4\n",
      "15                6.4               3.2                5.3               2.3\n",
      "16                6.5               3.0                5.5               1.8\n",
      "17                7.7               NaN                6.7               2.2\n",
      "18                7.7               2.6                6.9               2.3\n",
      "19                6.0               NaN                5.0               1.5\n",
      "20                6.9               3.2                5.7               2.3\n",
      "21                5.6               2.8                4.9               2.0\n",
      "22                7.7               2.8                6.7               2.0\n",
      "23                6.3               2.7                4.9               1.8\n",
      "24                6.7               3.3                5.7               2.1\n",
      "25                7.2               3.2                6.0               1.8\n",
      "26                6.2               2.8                4.8               1.8\n",
      "27                6.1               3.0                4.9               1.8\n",
      "28                6.4               2.8                5.6               2.1\n",
      "29                7.2               3.0                5.8               1.6\n",
      "30                7.4               2.8                6.1               1.9\n",
      "31                7.9               NaN                6.4               2.0\n",
      "32                6.4               2.8                5.6               2.2\n",
      "33                6.3               2.8                5.1               1.5\n",
      "34                6.1               2.6                5.6               1.4\n",
      "35                7.7               3.0                6.1               2.3\n",
      "36                6.3               3.4                5.6               2.4\n",
      "37                6.4               3.1                5.5               1.8\n",
      "38                6.0               3.0                4.8               1.8\n",
      "39                6.9               3.1                5.4               2.1\n",
      "40                6.7               3.1                5.6               2.4\n",
      "41                6.9               3.1                5.1               2.3\n",
      "42                5.8               2.7                5.1               1.9\n",
      "43                6.8               3.2                5.9               2.3\n",
      "44                6.7               3.3                5.7               2.5\n",
      "45                6.7               3.0                5.2               2.3\n",
      "46                6.3               2.5                5.0               1.9\n",
      "47                6.5               3.0                5.2               2.0\n",
      "48                6.2               3.4                5.4               2.3\n",
      "49                5.9               3.0                5.1               1.8\n",
      "[[5.1 3.5 1.4 0.2]\n",
      " [4.9 3.  1.4 0.2]\n",
      " [4.7 3.2 1.3 0.2]\n",
      " [4.6 3.1 1.5 0.2]\n",
      " [5.  3.6 1.4 0.2]\n",
      " [5.4 3.9 1.7 0.4]\n",
      " [4.6 3.4 1.4 0.3]\n",
      " [5.  3.4 1.5 0.2]\n",
      " [4.4 2.9 1.4 0.2]\n",
      " [4.9 3.1 1.5 0.1]\n",
      " [5.4 3.7 1.5 0.2]\n",
      " [4.8 3.4 1.6 0.2]\n",
      " [4.8 3.  1.4 0.1]\n",
      " [4.3 3.  1.4 0.1]\n",
      " [5.8 4.  1.2 0.2]\n",
      " [5.7 4.  1.5 0.4]\n",
      " [5.4 3.9 1.3 0.4]\n",
      " [5.1 3.5 1.4 0.3]\n",
      " [5.7 3.8 1.7 0.3]\n",
      " [5.1 3.8 1.5 0.3]\n",
      " [5.4 3.4 1.7 0.2]\n",
      " [5.1 3.7 1.5 0.4]\n",
      " [4.6 3.6 1.5 0.2]\n",
      " [5.1 3.3 1.7 0.2]\n",
      " [4.8 3.4 1.7 0.2]\n",
      " [5.  3.  1.6 0.2]\n",
      " [5.  3.4 1.6 0.4]\n",
      " [5.2 3.5 1.5 0.2]\n",
      " [5.2 3.4 1.4 0.2]\n",
      " [4.7 3.2 1.6 0.2]\n",
      " [4.8 3.1 1.6 0.2]\n",
      " [5.4 3.4 1.5 0.4]\n",
      " [5.2 4.1 1.5 0.1]\n",
      " [5.5 4.2 1.4 0.2]\n",
      " [4.9 3.1 1.5 0.2]\n",
      " [5.  3.2 1.2 0.2]\n",
      " [5.5 3.5 1.3 0.2]\n",
      " [4.9 3.6 1.4 0.1]\n",
      " [4.4 3.  1.3 0.2]\n",
      " [5.1 3.4 1.5 0.2]\n",
      " [5.  3.5 1.3 0.3]\n",
      " [4.5 3.5 1.3 0.3]\n",
      " [4.4 3.2 1.3 0.2]\n",
      " [5.  3.5 1.6 0.2]\n",
      " [5.1 3.8 1.6 0.4]\n",
      " [4.8 3.  1.4 0.3]\n",
      " [5.1 3.8 1.6 0.2]\n",
      " [4.6 3.2 1.4 0.2]\n",
      " [5.3 3.7 1.5 0.2]\n",
      " [5.  3.3 1.4 0.2]\n",
      " [7.  3.2 4.7 1.4]\n",
      " [6.4 3.2 4.5 1.5]\n",
      " [6.9 3.1 4.9 1.5]\n",
      " [5.5 2.3 4.  1.3]\n",
      " [6.5 2.8 4.6 1.5]\n",
      " [5.7 2.8 4.5 1.3]\n",
      " [6.3 3.3 4.7 1.6]\n",
      " [4.9 2.4 3.3 1. ]\n",
      " [6.6 2.9 4.6 1.3]\n",
      " [5.2 2.7 3.9 1.4]\n",
      " [5.  2.  3.5 1. ]\n",
      " [5.9 3.  4.2 1.5]\n",
      " [6.  2.2 4.  1. ]\n",
      " [6.1 2.9 4.7 1.4]\n",
      " [5.6 2.9 3.6 1.3]\n",
      " [6.7 3.1 4.4 1.4]\n",
      " [5.6 3.  4.5 1.5]\n",
      " [5.8 2.7 4.1 1. ]\n",
      " [6.2 2.2 4.5 1.5]\n",
      " [5.6 2.5 3.9 1.1]\n",
      " [5.9 3.2 4.8 1.8]\n",
      " [6.1 2.8 4.  1.3]\n",
      " [6.3 2.5 4.9 1.5]\n",
      " [6.1 2.8 4.7 1.2]\n",
      " [6.4 2.9 4.3 1.3]\n",
      " [6.6 3.  4.4 1.4]\n",
      " [6.8 2.8 4.8 1.4]\n",
      " [6.7 3.  5.  1.7]\n",
      " [6.  2.9 4.5 1.5]\n",
      " [5.7 2.6 3.5 1. ]\n",
      " [5.5 2.4 3.8 1.1]\n",
      " [5.5 2.4 3.7 1. ]\n",
      " [5.8 2.7 3.9 1.2]\n",
      " [6.  2.7 5.1 1.6]\n",
      " [5.4 3.  4.5 1.5]\n",
      " [6.  3.4 4.5 1.6]\n",
      " [6.7 3.1 4.7 1.5]\n",
      " [6.3 2.3 4.4 1.3]\n",
      " [5.6 3.  4.1 1.3]\n",
      " [5.5 2.5 4.  1.3]\n",
      " [5.5 2.6 4.4 1.2]\n",
      " [6.1 3.  4.6 1.4]\n",
      " [5.8 2.6 4.  1.2]\n",
      " [5.  2.3 3.3 1. ]\n",
      " [5.6 2.7 4.2 1.3]\n",
      " [5.7 3.  4.2 1.2]\n",
      " [5.7 2.9 4.2 1.3]\n",
      " [6.2 2.9 4.3 1.3]\n",
      " [5.1 2.5 4.3 1.1]\n",
      " [5.7 2.8 4.1 1.3]\n",
      " [6.3 3.3 6.  2.5]\n",
      " [5.8 2.7 5.1 1.9]\n",
      " [7.1 3.  5.9 2.1]\n",
      " [6.3 2.9 5.6 1.8]\n",
      " [6.5 3.  5.8 2.2]\n",
      " [7.6 3.  6.6 2.1]\n",
      " [7.6 2.5 4.5 1.7]\n",
      " [7.3 2.9 6.3 1.8]\n",
      " [6.7 2.5 5.8 1.8]\n",
      " [7.2 3.6 6.1 2.5]\n",
      " [6.5 3.2 5.1 2. ]\n",
      " [6.4 2.7 5.3 1.9]\n",
      " [6.8 3.  5.5 2.1]\n",
      " [5.7 2.5 5.  2. ]\n",
      " [5.8 2.8 5.1 2.4]\n",
      " [6.4 3.2 5.3 2.3]\n",
      " [6.5 3.  5.5 1.8]\n",
      " [7.7 3.  6.7 2.2]\n",
      " [7.7 2.6 6.9 2.3]\n",
      " [6.  2.6 5.  1.5]\n",
      " [6.9 3.2 5.7 2.3]\n",
      " [5.6 2.8 4.9 2. ]\n",
      " [7.7 2.8 6.7 2. ]\n",
      " [6.3 2.7 4.9 1.8]\n",
      " [6.7 3.3 5.7 2.1]\n",
      " [7.2 3.2 6.  1.8]\n",
      " [6.2 2.8 4.8 1.8]\n",
      " [6.1 3.  4.9 1.8]\n",
      " [6.4 2.8 5.6 2.1]\n",
      " [7.2 3.  5.8 1.6]\n",
      " [7.4 2.8 6.1 1.9]\n",
      " [7.9 2.8 6.4 2. ]\n",
      " [6.4 2.8 5.6 2.2]\n",
      " [6.3 2.8 5.1 1.5]\n",
      " [6.1 2.6 5.6 1.4]\n",
      " [7.7 3.  6.1 2.3]\n",
      " [6.3 3.4 5.6 2.4]\n",
      " [6.4 3.1 5.5 1.8]\n",
      " [6.  3.  4.8 1.8]\n",
      " [6.9 3.1 5.4 2.1]\n",
      " [6.7 3.1 5.6 2.4]\n",
      " [6.9 3.1 5.1 2.3]\n",
      " [5.8 2.7 5.1 1.9]\n",
      " [6.8 3.2 5.9 2.3]\n",
      " [6.7 3.3 5.7 2.5]\n",
      " [6.7 3.  5.2 2.3]\n",
      " [6.3 2.5 5.  1.9]\n",
      " [6.5 3.  5.2 2. ]\n",
      " [6.2 3.4 5.4 2.3]\n",
      " [5.9 3.  5.1 1.8]]\n"
     ]
    }
   ],
   "source": [
    "import pandas as pd\n",
    "import numpy as np\n",
    "from sklearn.datasets import load_iris\n",
    "from sklearn.preprocessing import StandardScaler\n",
    "from sklearn.model_selection import train_test_split\n",
    "scaler = StandardScaler()\n",
    "import matplotlib.pyplot as plt\n",
    "plt.rcParams['font.size'] = 14\n",
    "np.random.seed(20)\n",
    "iris_data = load_iris()\n",
    "\n",
    "X = iris_data.data\n",
    "y = iris_data.target\n",
    "\n",
    "dfs = []\n",
    "for i in range(3):\n",
    "    mask = (y == i)\n",
    "    x_i = X[mask]\n",
    "    # print(x_i)\n",
    "\n",
    "    df_i = pd.DataFrame(x_i, columns=iris_data.feature_names)\n",
    "    plt.figure(figsize=(10, 4))\n",
    "    plt.boxplot(df_i.values, labels=iris_data.feature_names)\n",
    "    plt.show()\n",
    "    Q1 = df_i.quantile(0.25)\n",
    "    Q3 = df_i.quantile(0.75)\n",
    "    IQR = Q3 - Q1\n",
    "    # 定义过滤器\n",
    "    filter = (df_i < (Q1 - 1.5 * IQR)) | (df_i > (Q3 + 1.5 * IQR))\n",
    "    # print(df_i[filter])\n",
    "    df_i[filter] = np.nan\n",
    "\n",
    "    print(df_i)\n",
    "    df_i.interpolate(method='nearest', inplace=True)\n",
    "    plt.figure(figsize=(10, 4))\n",
    "    plt.boxplot(df_i.values, labels=iris_data.feature_names)\n",
    "    plt.show()\n",
    "    dfs.append(df_i)\n",
    "\n",
    "df = pd.concat(dfs, axis=0) \n",
    "X = np.array(df)\n",
    "    \n",
    "print(X)\n"
   ]
  },
  {
   "cell_type": "code",
   "execution_count": 19,
   "metadata": {},
   "outputs": [],
   "source": [
    "X = scaler.fit_transform(X)\n",
    "X_train, X_test, y_train, y_test = train_test_split(X, y, train_size=0.7, random_state=200)\n",
    "\n"
   ]
  },
  {
   "cell_type": "code",
   "execution_count": 20,
   "metadata": {},
   "outputs": [],
   "source": [
    "knn_models = [KNeighborsClassifier(n_neighbors=k) for k in range(1, 10)]\n",
    "knn_fit = [model.fit(X_train, y_train) for model in knn_models]\n",
    "knn_acc = [model.score(X_test, y_test) for model in knn_models]"
   ]
  },
  {
   "cell_type": "code",
   "execution_count": 21,
   "metadata": {},
   "outputs": [
    {
     "data": {
      "text/plain": [
       "[<matplotlib.lines.Line2D at 0x191335f7190>]"
      ]
     },
     "execution_count": 21,
     "metadata": {},
     "output_type": "execute_result"
    }
   ],
   "source": [
    "knn_cross_val_score = [cross_val_score(\n",
    "    model, X_train, y_train).mean() for model in knn_models]\n",
    "plt.figure(figsize=(8, 4))\n",
    "plt.plot(range(1, 10), knn_cross_val_score, 'bo-')"
   ]
  },
  {
   "cell_type": "markdown",
   "metadata": {},
   "source": [
    "### 选定k值为3"
   ]
  },
  {
   "cell_type": "code",
   "execution_count": 22,
   "metadata": {},
   "outputs": [
    {
     "name": "stdout",
     "output_type": "stream",
     "text": [
      "accuracy_score is 1.0\n",
      "recall_score is 1.0\n",
      "f1_score is 1.0\n"
     ]
    }
   ],
   "source": [
    "knn_clf = KNeighborsClassifier(n_neighbors=5)\n",
    "knn_clf.fit(X_train, y_train)\n",
    "output = knn_clf.predict(X_test)\n",
    "acc = accuracy_score(y_test, output)\n",
    "recall = recall_score(y_test, output, average='macro')\n",
    "f1 = f1_score(y_test, output, average='macro')\n",
    "\n",
    "\n",
    "print(f\"accuracy_score is {acc}\")\n",
    "print(f\"recall_score is {recall}\")\n",
    "print(f\"f1_score is {f1}\")"
   ]
  },
  {
   "cell_type": "code",
   "execution_count": 23,
   "metadata": {},
   "outputs": [],
   "source": [
    "# 设置为监督学习 对分类结果进行可视化\n",
    "import matplotlib.pyplot as plt\n",
    "import mpl_toolkits.mplot3d as Axes3D\n",
    "import numpy as np\n",
    "np.random.seed(42)\n",
    "\n",
    "fig = plt.figure(figsize=(5, 5))\n",
    "# kmeans = KMeans(n_clusters=2)\n",
    "\n",
    "\n",
    "# plt.clf()\n",
    "ax = fig.add_subplot(1, 1, 1, projection=\"3d\", elev=48, azim=134)\n",
    "# ax.set_position([0, 0, 0.95, 1])\n",
    "# plt.cla()\n",
    "pca = PCA(n_components=3)\n",
    "X_pca = pca.fit_transform(X_test)\n",
    "for name, label in [(\"setosa\", 0), (\"versicolor\", 1),( \"virginica\", 2)]:\n",
    "    ax.text3D(\n",
    "        X_pca[y_test == label, 0].mean(),\n",
    "        X_pca[y_test == label, 1].mean() + 1.5,\n",
    "        X_pca[y_test == label, 2].mean(),\n",
    "        name,\n",
    "        horizontalalignment=\"center\",\n",
    "        bbox=dict(alpha=0.5, edgecolor=\"w\", facecolor=\"w\"),\n",
    "        fontsize=12\n",
    "    )\n",
    "    y = output\n",
    "        \n",
    "    ax.scatter(X_pca[:, 0], X_pca[:, 1], X_pca[:, 2], c=y,\n",
    "                edgecolor=\"k\", s=80, alpha=0.6)\n",
    "\n",
    "    ax.set_xlabel('Feature1')\n",
    "    ax.set_ylabel('Feature2')\n",
    "    ax.set_zlabel('Feature3')\n",
    "\n",
    "    ax.view_init(elev=18, azim=107)\n",
    "\n",
    "    plt.tight_layout()\n",
    "    plt.show()"
   ]
  },
  {
   "cell_type": "markdown",
   "metadata": {},
   "source": [
    "### 相关评价指标"
   ]
  },
  {
   "cell_type": "code",
   "execution_count": 24,
   "metadata": {},
   "outputs": [
    {
     "name": "stdout",
     "output_type": "stream",
     "text": [
      "accuracy_score is 1.0\n",
      "recall_score is 1.0\n",
      "f1_score is 1.0\n"
     ]
    }
   ],
   "source": [
    "acc = accuracy_score(y_test, output)\n",
    "recall = recall_score(y_test, output, average='macro')\n",
    "f1 = f1_score(y_test, output, average='macro')\n",
    "print(f\"accuracy_score is {acc}\")\n",
    "print(f\"recall_score is {recall}\")\n",
    "print(f\"f1_score is {f1}\")"
   ]
  },
  {
   "cell_type": "code",
   "execution_count": 25,
   "metadata": {},
   "outputs": [
    {
     "data": {
      "text/html": [
       "<style>#sk-container-id-2 {color: black;}#sk-container-id-2 pre{padding: 0;}#sk-container-id-2 div.sk-toggleable {background-color: white;}#sk-container-id-2 label.sk-toggleable__label {cursor: pointer;display: block;width: 100%;margin-bottom: 0;padding: 0.3em;box-sizing: border-box;text-align: center;}#sk-container-id-2 label.sk-toggleable__label-arrow:before {content: \"▸\";float: left;margin-right: 0.25em;color: #696969;}#sk-container-id-2 label.sk-toggleable__label-arrow:hover:before {color: black;}#sk-container-id-2 div.sk-estimator:hover label.sk-toggleable__label-arrow:before {color: black;}#sk-container-id-2 div.sk-toggleable__content {max-height: 0;max-width: 0;overflow: hidden;text-align: left;background-color: #f0f8ff;}#sk-container-id-2 div.sk-toggleable__content pre {margin: 0.2em;color: black;border-radius: 0.25em;background-color: #f0f8ff;}#sk-container-id-2 input.sk-toggleable__control:checked~div.sk-toggleable__content {max-height: 200px;max-width: 100%;overflow: auto;}#sk-container-id-2 input.sk-toggleable__control:checked~label.sk-toggleable__label-arrow:before {content: \"▾\";}#sk-container-id-2 div.sk-estimator input.sk-toggleable__control:checked~label.sk-toggleable__label {background-color: #d4ebff;}#sk-container-id-2 div.sk-label input.sk-toggleable__control:checked~label.sk-toggleable__label {background-color: #d4ebff;}#sk-container-id-2 input.sk-hidden--visually {border: 0;clip: rect(1px 1px 1px 1px);clip: rect(1px, 1px, 1px, 1px);height: 1px;margin: -1px;overflow: hidden;padding: 0;position: absolute;width: 1px;}#sk-container-id-2 div.sk-estimator {font-family: monospace;background-color: #f0f8ff;border: 1px dotted black;border-radius: 0.25em;box-sizing: border-box;margin-bottom: 0.5em;}#sk-container-id-2 div.sk-estimator:hover {background-color: #d4ebff;}#sk-container-id-2 div.sk-parallel-item::after {content: \"\";width: 100%;border-bottom: 1px solid gray;flex-grow: 1;}#sk-container-id-2 div.sk-label:hover label.sk-toggleable__label {background-color: #d4ebff;}#sk-container-id-2 div.sk-serial::before {content: \"\";position: absolute;border-left: 1px solid gray;box-sizing: border-box;top: 0;bottom: 0;left: 50%;z-index: 0;}#sk-container-id-2 div.sk-serial {display: flex;flex-direction: column;align-items: center;background-color: white;padding-right: 0.2em;padding-left: 0.2em;position: relative;}#sk-container-id-2 div.sk-item {position: relative;z-index: 1;}#sk-container-id-2 div.sk-parallel {display: flex;align-items: stretch;justify-content: center;background-color: white;position: relative;}#sk-container-id-2 div.sk-item::before, #sk-container-id-2 div.sk-parallel-item::before {content: \"\";position: absolute;border-left: 1px solid gray;box-sizing: border-box;top: 0;bottom: 0;left: 50%;z-index: -1;}#sk-container-id-2 div.sk-parallel-item {display: flex;flex-direction: column;z-index: 1;position: relative;background-color: white;}#sk-container-id-2 div.sk-parallel-item:first-child::after {align-self: flex-end;width: 50%;}#sk-container-id-2 div.sk-parallel-item:last-child::after {align-self: flex-start;width: 50%;}#sk-container-id-2 div.sk-parallel-item:only-child::after {width: 0;}#sk-container-id-2 div.sk-dashed-wrapped {border: 1px dashed gray;margin: 0 0.4em 0.5em 0.4em;box-sizing: border-box;padding-bottom: 0.4em;background-color: white;}#sk-container-id-2 div.sk-label label {font-family: monospace;font-weight: bold;display: inline-block;line-height: 1.2em;}#sk-container-id-2 div.sk-label-container {text-align: center;}#sk-container-id-2 div.sk-container {/* jupyter's `normalize.less` sets `[hidden] { display: none; }` but bootstrap.min.css set `[hidden] { display: none !important; }` so we also need the `!important` here to be able to override the default hidden behavior on the sphinx rendered scikit-learn.org. See: https://github.com/scikit-learn/scikit-learn/issues/21755 */display: inline-block !important;position: relative;}#sk-container-id-2 div.sk-text-repr-fallback {display: none;}</style><div id=\"sk-container-id-2\" class=\"sk-top-container\"><div class=\"sk-text-repr-fallback\"><pre>GridSearchCV(cv=5, estimator=DecisionTreeClassifier(random_state=42),\n",
       "             param_grid={&#x27;ccp_alpha&#x27;: [0.0, 0.01, 0.02, 0.03, 0.04],\n",
       "                         &#x27;max_depth&#x27;: [None, 2, 3, 4, 5]},\n",
       "             scoring=&#x27;accuracy&#x27;)</pre><b>In a Jupyter environment, please rerun this cell to show the HTML representation or trust the notebook. <br />On GitHub, the HTML representation is unable to render, please try loading this page with nbviewer.org.</b></div><div class=\"sk-container\" hidden><div class=\"sk-item sk-dashed-wrapped\"><div class=\"sk-label-container\"><div class=\"sk-label sk-toggleable\"><input class=\"sk-toggleable__control sk-hidden--visually\" id=\"sk-estimator-id-4\" type=\"checkbox\" ><label for=\"sk-estimator-id-4\" class=\"sk-toggleable__label sk-toggleable__label-arrow\">GridSearchCV</label><div class=\"sk-toggleable__content\"><pre>GridSearchCV(cv=5, estimator=DecisionTreeClassifier(random_state=42),\n",
       "             param_grid={&#x27;ccp_alpha&#x27;: [0.0, 0.01, 0.02, 0.03, 0.04],\n",
       "                         &#x27;max_depth&#x27;: [None, 2, 3, 4, 5]},\n",
       "             scoring=&#x27;accuracy&#x27;)</pre></div></div></div><div class=\"sk-parallel\"><div class=\"sk-parallel-item\"><div class=\"sk-item\"><div class=\"sk-label-container\"><div class=\"sk-label sk-toggleable\"><input class=\"sk-toggleable__control sk-hidden--visually\" id=\"sk-estimator-id-5\" type=\"checkbox\" ><label for=\"sk-estimator-id-5\" class=\"sk-toggleable__label sk-toggleable__label-arrow\">estimator: DecisionTreeClassifier</label><div class=\"sk-toggleable__content\"><pre>DecisionTreeClassifier(random_state=42)</pre></div></div></div><div class=\"sk-serial\"><div class=\"sk-item\"><div class=\"sk-estimator sk-toggleable\"><input class=\"sk-toggleable__control sk-hidden--visually\" id=\"sk-estimator-id-6\" type=\"checkbox\" ><label for=\"sk-estimator-id-6\" class=\"sk-toggleable__label sk-toggleable__label-arrow\">DecisionTreeClassifier</label><div class=\"sk-toggleable__content\"><pre>DecisionTreeClassifier(random_state=42)</pre></div></div></div></div></div></div></div></div></div></div>"
      ],
      "text/plain": [
       "GridSearchCV(cv=5, estimator=DecisionTreeClassifier(random_state=42),\n",
       "             param_grid={'ccp_alpha': [0.0, 0.01, 0.02, 0.03, 0.04],\n",
       "                         'max_depth': [None, 2, 3, 4, 5]},\n",
       "             scoring='accuracy')"
      ]
     },
     "execution_count": 25,
     "metadata": {},
     "output_type": "execute_result"
    }
   ],
   "source": [
    "\n",
    "tree_clf = DecisionTreeClassifier(random_state=42)\n",
    "\n",
    "# 定义参数网格\n",
    "param_grid = {\n",
    "    'max_depth': [None, 2, 3, 4, 5],  # 预剪枝参数\n",
    "    'ccp_alpha': [0.0, 0.01, 0.02, 0.03, 0.04]  # 后剪枝参数\n",
    "}\n",
    "grid_search = GridSearchCV(tree_clf, param_grid, cv=5, scoring='accuracy')\n",
    "grid_search.fit(X_train, y_train)"
   ]
  },
  {
   "cell_type": "code",
   "execution_count": 26,
   "metadata": {},
   "outputs": [
    {
     "name": "stdout",
     "output_type": "stream",
     "text": [
      "{'ccp_alpha': 0.0, 'max_depth': None}\n"
     ]
    }
   ],
   "source": [
    "print(grid_search.best_params_)"
   ]
  },
  {
   "cell_type": "code",
   "execution_count": 27,
   "metadata": {},
   "outputs": [],
   "source": [
    "best_tree_clf = grid_search.best_estimator_\n",
    "output = best_tree_clf.predict(X_test)\n",
    "plt.figure(figsize=(20, 10))\n",
    "plot_tree(best_tree_clf, filled=True,  rounded=True,\n",
    "          feature_names=list(iris_data[\"feature_names\"]), class_names=list(iris_data[\"target_names\"]))\n",
    "plt.show()"
   ]
  },
  {
   "cell_type": "code",
   "execution_count": 28,
   "metadata": {},
   "outputs": [
    {
     "name": "stdout",
     "output_type": "stream",
     "text": [
      "accuracy_score is 1.0\n",
      "recall_score is 1.0\n",
      "f1_score is 1.0\n"
     ]
    }
   ],
   "source": [
    "acc = accuracy_score(y_test, output)\n",
    "recall = recall_score(y_test, output, average='macro')\n",
    "f1 = f1_score(y_test, output, average='macro')\n",
    "print(f\"accuracy_score is {acc}\")\n",
    "print(f\"recall_score is {recall}\")\n",
    "print(f\"f1_score is {f1}\")"
   ]
  },
  {
   "cell_type": "markdown",
   "metadata": {},
   "source": [
    "### 逻辑回归"
   ]
  },
  {
   "cell_type": "code",
   "execution_count": 29,
   "metadata": {},
   "outputs": [
    {
     "name": "stdout",
     "output_type": "stream",
     "text": [
      "Fitting 5 folds for each of 400 candidates, totalling 2000 fits\n",
      "Best Parameters:  {'C': 0.23357214690901212, 'penalty': 'l1', 'solver': 'saga'}\n"
     ]
    }
   ],
   "source": [
    "\n",
    "import matplotlib.pyplot as plt\n",
    "import numpy as np\n",
    "from sklearn.metrics import confusion_matrix\n",
    "from sklearn.model_selection import train_test_split\n",
    "from sklearn.linear_model import LogisticRegression\n",
    "from sklearn.datasets import load_iris\n",
    "\n",
    "\n",
    "\n",
    "\n",
    "param_grid = {\n",
    "    'penalty': ['l1', 'l2', 'elasticnet', 'none'],\n",
    "    'C': np.logspace(-4, 4, 20),\n",
    "    'solver': ['newton-cg', 'lbfgs', 'liblinear', 'sag', 'saga']\n",
    "}\n",
    "\n",
    "grid_search = GridSearchCV(LogisticRegression(\n",
    "    random_state=42), param_grid, cv=5, verbose=3, n_jobs=-1)\n",
    "\n",
    "grid_search.fit(X_train, y_train)\n",
    "\n",
    "print(\"Best Parameters: \", grid_search.best_params_)\n",
    "best_log_res = grid_search.best_estimator_\n",
    "\n",
    "\n"
   ]
  },
  {
   "cell_type": "code",
   "execution_count": 30,
   "metadata": {},
   "outputs": [],
   "source": [
    "\n",
    "pca = PCA(n_components=2)\n",
    "X_pca = pca.fit_transform(X_test)\n",
    "model = LogisticRegression(random_state=42)\n",
    "model.fit(X_pca, y_test)\n",
    "\n",
    "conf_mat = confusion_matrix(y_test, output)\n",
    "\n",
    "\n",
    "x_min, x_max = X_pca[:, 0].min() - 1, X_pca[:, 0].max() + 1\n",
    "y_min, y_max = X_pca[:, 1].min() - 1, X_pca[:, 1].max() + 1\n",
    "xx, yy = np.meshgrid(np.arange(x_min, x_max, 0.1),\n",
    "                     np.arange(y_min, y_max, 0.1))\n",
    "Z = model.predict(np.c_[xx.ravel(), yy.ravel()])\n",
    "Z = Z.reshape(xx.shape)\n",
    "\n",
    "\n",
    "plt.figure(figsize=(10, 6))\n",
    "plt.contourf(xx, yy, Z, alpha=0.3, levels=np.arange(\n",
    "    len(np.unique(y)) + 1) - 0.5, cmap='rainbow')\n",
    "plt.scatter(X_pca[:, 0], X_pca[:, 1], c=y, cmap='rainbow', edgecolor='k')\n",
    "plt.title('Logistic Regression Decision Boundaries on Iris Dataset')\n",
    "plt.xlabel('Petal length')\n",
    "plt.ylabel('Petal width')\n",
    "plt.show()"
   ]
  },
  {
   "cell_type": "code",
   "execution_count": 31,
   "metadata": {},
   "outputs": [
    {
     "name": "stdout",
     "output_type": "stream",
     "text": [
      "accuracy_score is 1.0\n",
      "recall_score is 1.0\n",
      "f1_score is 1.0\n"
     ]
    }
   ],
   "source": [
    "output = best_log_res.predict(X_test)\n",
    "acc = accuracy_score(y_test, output)\n",
    "recall = recall_score(y_test, output, average='macro')\n",
    "f1 = f1_score(y_test, output, average='macro')\n",
    "\n",
    "print(f\"accuracy_score is {acc}\")\n",
    "print(f\"recall_score is {recall}\")\n",
    "print(f\"f1_score is {f1}\")"
   ]
  },
  {
   "cell_type": "markdown",
   "metadata": {},
   "source": [
    "### SVM"
   ]
  },
  {
   "cell_type": "code",
   "execution_count": 32,
   "metadata": {},
   "outputs": [
    {
     "name": "stdout",
     "output_type": "stream",
     "text": [
      "Fitting 5 folds for each of 100 candidates, totalling 500 fits\n",
      "Best Parameters:  {'C': 0.1, 'gamma': 1, 'kernel': 'linear'}\n",
      "accuracy_score is 1.0\n",
      "recall_score is 1.0\n",
      "f1_score is 1.0\n"
     ]
    }
   ],
   "source": [
    "from sklearn import svm\n",
    "from sklearn.model_selection import GridSearchCV\n",
    "\n",
    "\n",
    "param_grid = {\n",
    "    'C': [0.1, 1, 10, 100, 1000],\n",
    "    'gamma': [1, 0.1, 0.01, 0.001, 0.0001],\n",
    "    'kernel': ['rbf', 'linear', 'poly', 'sigmoid']\n",
    "}\n",
    "\n",
    "\n",
    "grid_search = GridSearchCV(svm.SVC(), param_grid,\n",
    "                           refit=True, verbose=3, n_jobs=-1)\n",
    "\n",
    "grid_search.fit(X_train, y_train)\n",
    "\n",
    "print(\"Best Parameters: \", grid_search.best_params_)\n",
    "\n",
    "\n",
    "best_svm = grid_search.best_estimator_\n",
    "\n",
    "output = best_svm.predict(X_test)\n",
    "\n",
    "acc = accuracy_score(y_test, output)\n",
    "recall = recall_score(y_test, output, average='macro')\n",
    "f1 = f1_score(y_test, output, average='macro')\n",
    "\n",
    "print(f\"accuracy_score is {acc}\")\n",
    "print(f\"recall_score is {recall}\")\n",
    "print(f\"f1_score is {f1}\")"
   ]
  },
  {
   "cell_type": "code",
   "execution_count": 33,
   "metadata": {},
   "outputs": [
    {
     "data": {
      "text/plain": [
       "array([[18,  0,  0],\n",
       "       [ 0, 16,  0],\n",
       "       [ 0,  0, 11]], dtype=int64)"
      ]
     },
     "execution_count": 33,
     "metadata": {},
     "output_type": "execute_result"
    }
   ],
   "source": [
    "from sklearn.svm import SVC\n",
    "\n",
    "\n",
    "svm_model = SVC(kernel='rbf', C=1.0,gamma=1,)\n",
    "svm_model.fit(X_train, y_train)\n",
    "y_pred_svm = svm_model.predict(X_test)\n",
    "\n",
    "\n",
    "\n",
    "model = SVC(kernel='linear', C=1.0)\n",
    "model.fit(X_pca, y_test)\n",
    "\n",
    "\n",
    "conf_mat_svm = confusion_matrix(y_test, y_pred_svm)\n",
    "\n",
    "plt.figure(figsize=(10, 6))\n",
    "\n",
    "Z_svm = model.decision_function(np.c_[xx.ravel(), yy.ravel()])\n",
    "Z_svm = Z_svm.reshape(xx.shape[0], xx.shape[1], 3)  \n",
    "contour = plt.contour(xx, yy, Z_svm[:, :, 1], levels=[\n",
    "                      0], linewidths=2, colors='k')\n",
    "plt.contourf(xx, yy, Z_svm[:, :, 1], levels=np.linspace(\n",
    "    Z_svm[:, :, 1].min(), Z_svm[:, :, 1].max(), 7), alpha=0.3)\n",
    "\n",
    "plt.scatter(X_pca[:, 0], X_pca[:, 1], c=y_test, cmap='rainbow', edgecolor='k')\n",
    "\n",
    "plt.title('SVM Decision Boundaries with Support Vectors on Iris Dataset')\n",
    "plt.xlabel('Petal length')\n",
    "plt.ylabel('Petal width')\n",
    "plt.show()\n",
    "\n",
    "conf_mat_svm"
   ]
  },
  {
   "cell_type": "code",
   "execution_count": 34,
   "metadata": {},
   "outputs": [
    {
     "name": "stdout",
     "output_type": "stream",
     "text": [
      "accuracy_score is 1.0\n",
      "recall_score is 1.0\n",
      "f1_score is 1.0\n"
     ]
    }
   ],
   "source": [
    "\n",
    "print(f\"accuracy_score is {acc}\")\n",
    "print(f\"recall_score is {recall}\")\n",
    "print(f\"f1_score is {f1}\")\n"
   ]
  }
 ],
 "metadata": {
  "kernelspec": {
   "display_name": "pytorch",
   "language": "python",
   "name": "python3"
  },
  "language_info": {
   "codemirror_mode": {
    "name": "ipython",
    "version": 3
   },
   "file_extension": ".py",
   "mimetype": "text/x-python",
   "name": "python",
   "nbconvert_exporter": "python",
   "pygments_lexer": "ipython3",
   "version": "3.10.11"
  }
 },
 "nbformat": 4,
 "nbformat_minor": 2
}
